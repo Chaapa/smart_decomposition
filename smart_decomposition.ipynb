{
 "cells": [
  {
   "cell_type": "code",
   "execution_count": 1,
   "id": "ed021c3f",
   "metadata": {},
   "outputs": [],
   "source": [
    "from sympy import *\n",
    "import numpy as np\n",
    "import matplotlib.pyplot as plt\n",
    "\n",
    "init_printing()"
   ]
  },
  {
   "cell_type": "code",
   "execution_count": 2,
   "id": "ca77fe9b",
   "metadata": {},
   "outputs": [
    {
     "name": "stdout",
     "output_type": "stream",
     "text": [
      "2\n",
      "1 2\n",
      "3 4\n"
     ]
    },
    {
     "data": {
      "image/png": "[encoded data removed]",
      "text/latex": [
       "$\\displaystyle A = M_{1}(1)*A_{21}(3)*M_{2}(-2)*A_{12}(2)$"
      ],
      "text/plain": [
       "A = M_{1}(1)*A_{21}(3)*M_{2}(-2)*A_{12}(2)"
      ]
     },
     "execution_count": 2,
     "metadata": {},
     "output_type": "execute_result"
    }
   ],
   "source": [
    "n = int(input())\n",
    "a = Matrix([[int(i) for i in input().split()] for j in range(n)])\n",
    "b = []\n",
    "for i in range(n):\n",
    "    d = a[i,i]\n",
    "    a[i,0:] /= d\n",
    "    b.append(f'M_{{{i+1}}}({d})')\n",
    "    for j in range(n):\n",
    "        if i != j:\n",
    "            b.append(f'A_{{{j+1}{i+1}}}({a[j,i]})')\n",
    "            a[j, 0:] -= (a[j, i] * a[i,0:])\n",
    "\n",
    "st = '*'.join(b)\n",
    "Symbol(f'A = {st}')"
   ]
  },
  {
   "cell_type": "code",
   "execution_count": null,
   "id": "0b9346e9",
   "metadata": {},
   "outputs": [],
   "source": []
  }
 ],
 "metadata": {
  "kernelspec": {
   "display_name": "Python 3 (ipykernel)",
   "language": "python",
   "name": "python3"
  },
  "language_info": {
   "codemirror_mode": {
    "name": "ipython",
    "version": 3
   },
   "file_extension": ".py",
   "mimetype": "text/x-python",
   "name": "python",
   "nbconvert_exporter": "python",
   "pygments_lexer": "ipython3",
   "version": "3.9.12"
  }
 },
 "nbformat": 4,
 "nbformat_minor": 5
}
